{
  "nbformat": 4,
  "nbformat_minor": 0,
  "metadata": {
    "colab": {
      "provenance": [],
      "authorship_tag": "ABX9TyMqmbMT/rCaRBN9CMkoqY4Q",
      "include_colab_link": true
    },
    "kernelspec": {
      "name": "python3",
      "display_name": "Python 3"
    },
    "language_info": {
      "name": "python"
    }
  },
  "cells": [
    {
      "cell_type": "markdown",
      "metadata": {
        "id": "view-in-github",
        "colab_type": "text"
      },
      "source": [
        "<a href=\"https://colab.research.google.com/github/KATAMKAVYA/Titanic-Classification/blob/main/Second_task.ipynb\" target=\"_parent\"><img src=\"https://colab.research.google.com/assets/colab-badge.svg\" alt=\"Open In Colab\"/></a>"
      ]
    },
    {
      "cell_type": "code",
      "execution_count": 1,
      "metadata": {
        "colab": {
          "base_uri": "https://localhost:8080/"
        },
        "id": "Yd1Wn0l5Rh47",
        "outputId": "75890f66-58cb-497b-937b-804e5dd3ef6b"
      },
      "outputs": [
        {
          "output_type": "stream",
          "name": "stdout",
          "text": [
            "Accuracy: 0.82\n",
            "Confusion Matrix:\n",
            "[[90 15]\n",
            " [17 57]]\n",
            "Classification Report:\n",
            "              precision    recall  f1-score   support\n",
            "\n",
            "           0       0.84      0.86      0.85       105\n",
            "           1       0.79      0.77      0.78        74\n",
            "\n",
            "    accuracy                           0.82       179\n",
            "   macro avg       0.82      0.81      0.81       179\n",
            "weighted avg       0.82      0.82      0.82       179\n",
            "\n",
            "Data for Survival Example:\n",
            "   pclass  age  sibsp  parch  fare  sex_male  embarked_Q  embarked_S  \\\n",
            "0       1   30      0      0   100         0           0           0   \n",
            "\n",
            "   class_Second  class_Third  who_man  who_woman  adult_male_True  alone_True  \n",
            "0             0            0        0          1                0           0  \n",
            "Survival Prediction for Survive Example: Survived\n",
            "\n",
            "Data for Not Survival Example:\n",
            "   pclass  age  sibsp  parch  fare  sex_male  embarked_Q  embarked_S  \\\n",
            "0       3   40      1      0    10         1           0           1   \n",
            "\n",
            "   class_Second  class_Third  who_man  who_woman  adult_male_True  alone_True  \n",
            "0             0            1        1          0                0           0  \n",
            "Survival Prediction for Not Survive Example: Not Survived\n"
          ]
        }
      ],
      "source": [
        "import seaborn as sns\n",
        "import pandas as pd\n",
        "from sklearn.model_selection import train_test_split\n",
        "from sklearn.ensemble import RandomForestClassifier\n",
        "from sklearn.metrics import accuracy_score, confusion_matrix, classification_report\n",
        "\n",
        "titanic = sns.load_dataset('titanic')\n",
        "\n",
        "titanic['age'].fillna(titanic['age'].median(), inplace=True)\n",
        "\n",
        "titanic['embarked'].fillna(titanic['embarked'].mode()[0], inplace=True)\n",
        "\n",
        "titanic.drop(columns=['deck', 'embark_town'], inplace=True)\n",
        "\n",
        "titanic.dropna(subset=['embarked'], inplace=True)\n",
        "\n",
        "titanic = pd.get_dummies(titanic, columns=['sex', 'embarked', 'class', 'who', 'adult_male', 'alone'], drop_first=True)\n",
        "\n",
        "columns_to_drop = ['alive']\n",
        "titanic.drop(columns=[col for col in columns_to_drop if col in titanic.columns], inplace=True)\n",
        "\n",
        "X = titanic.drop(columns=['survived'])\n",
        "y = titanic['survived']\n",
        "\n",
        "X_train, X_test, y_train, y_test = train_test_split(X, y, test_size=0.2, random_state=42)\n",
        "\n",
        "model = RandomForestClassifier(n_estimators=100, random_state=42)\n",
        "model.fit(X_train, y_train)\n",
        "\n",
        "y_pred = model.predict(X_test)\n",
        "\n",
        "accuracy = accuracy_score(y_test, y_pred)\n",
        "conf_matrix = confusion_matrix(y_test, y_pred)\n",
        "class_report = classification_report(y_test, y_pred)\n",
        "\n",
        "print(f'Accuracy: {accuracy:.2f}')\n",
        "print('Confusion Matrix:')\n",
        "print(conf_matrix)\n",
        "print('Classification Report:')\n",
        "print(class_report)\n",
        "\n",
        "survive_example = pd.DataFrame({\n",
        "    'pclass': [1],\n",
        "    'age': [30],\n",
        "    'sibsp': [0],\n",
        "    'parch': [0],\n",
        "    'fare': [100],\n",
        "    'sex_male': [0],\n",
        "    'embarked_Q': [0],\n",
        "    'embarked_S': [0],\n",
        "    'class_Second': [0],\n",
        "    'class_Third': [0],\n",
        "    'who_man': [0],\n",
        "    'who_woman': [1],\n",
        "    'adult_male': [0],\n",
        "    'alone': [1]\n",
        "})\n",
        "\n",
        "not_survive_example = pd.DataFrame({\n",
        "    'pclass': [3],\n",
        "    'age': [40],\n",
        "    'sibsp': [1],\n",
        "    'parch': [0],\n",
        "    'fare': [10],\n",
        "    'sex_male': [1],\n",
        "    'embarked_Q': [0],\n",
        "    'embarked_S': [1],\n",
        "    'class_Second': [0],\n",
        "    'class_Third': [1],\n",
        "    'who_man': [1],\n",
        "    'who_woman': [0],\n",
        "    'adult_male': [1],\n",
        "    'alone': [0]\n",
        "})\n",
        "\n",
        "survive_example = survive_example.reindex(columns=X_train.columns, fill_value=0)\n",
        "not_survive_example = not_survive_example.reindex(columns=X_train.columns, fill_value=0)\n",
        "\n",
        "survive_prediction = model.predict(survive_example)\n",
        "not_survive_prediction = model.predict(not_survive_example)\n",
        "\n",
        "print('Data for Survival Example:')\n",
        "print(survive_example)\n",
        "print('Survival Prediction for Survive Example:', 'Survived' if survive_prediction[0] == 1 else 'Not Survived')\n",
        "\n",
        "print('\\nData for Not Survival Example:')\n",
        "print(not_survive_example)\n",
        "print('Survival Prediction for Not Survive Example:', 'Survived' if not_survive_prediction[0] == 1 else 'Not Survived')\n"
      ]
    }
  ]
}